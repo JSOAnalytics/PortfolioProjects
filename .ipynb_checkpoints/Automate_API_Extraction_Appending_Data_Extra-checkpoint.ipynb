{
 "cells": [
  {
   "cell_type": "markdown",
   "id": "230bf8d5-a3b6-4291-8de4-ee490aa6630f",
   "metadata": {},
   "source": [
    "### Automate API Extraction + Appending Data + Extra"
   ]
  },
  {
   "cell_type": "code",
   "execution_count": 1,
   "id": "11b53884-d761-4aed-b963-1297e16c7857",
   "metadata": {
    "tags": []
   },
   "outputs": [],
   "source": [
    "from requests import Request, Session\n",
    "from requests.exceptions import ConnectionError, Timeout, TooManyRedirects\n",
    "import json\n",
    "\n",
    "url = 'https://pro-api.coinmarketcap.com/v1/cryptocurrency/listings/latest' \n",
    "#Original Sandbox Environment: 'https://sandbox-api.coinmarketcap.com/v1/cryptocurrency/listings/latest'\n",
    "parameters = {\n",
    "  'start':'1',\n",
    "  'limit':'15',\n",
    "  'convert':'USD'\n",
    "}\n",
    "headers = {\n",
    "  'Accepts': 'application/json',\n",
    "  'X-CMC_PRO_API_KEY': '0ad53085-1cb2-4eb8-ad9e-3ffbd7e56509',\n",
    "}\n",
    "\n",
    "session = Session()\n",
    "session.headers.update(headers)\n",
    "\n",
    "try:\n",
    "  response = session.get(url, params=parameters)\n",
    "  data = json.loads(response.text)\n",
    "  #print(data)\n",
    "except (ConnectionError, Timeout, TooManyRedirects) as e:\n",
    "  print(e)\n",
    "\n",
    "#NOTE:\n",
    "# I had to go in and put \"jupyter notebook --NotebookApp.iopub_data_rate_limit=1e10\"\n",
    "# Into the Anaconda Prompt to change this to allow to pull data\n",
    "\n",
    "# If that didn't work try using the local host URL as shown in the video"
   ]
  },
  {
   "cell_type": "code",
   "execution_count": null,
   "id": "236e911c-f0ab-4982-a3fc-2f7ff5d94c79",
   "metadata": {},
   "outputs": [],
   "source": [
    "type(data)"
   ]
  },
  {
   "cell_type": "code",
   "execution_count": null,
   "id": "22e3c8b4-1019-4904-9cd9-eb0c6f22e224",
   "metadata": {},
   "outputs": [],
   "source": [
    "import pandas as pd\n",
    "\n",
    "#This allows you to see all the columns, not just like 15\n",
    "pd.set_option('display.max_columns', None)\n",
    "pd.set_option('display.max_rows', None)"
   ]
  },
  {
   "cell_type": "code",
   "execution_count": null,
   "id": "d72846d7-e975-4339-8aa1-3dae8e05a3a8",
   "metadata": {},
   "outputs": [],
   "source": [
    "#This normalizes the data and makes it all pretty in a dataframe\n",
    "\n",
    "df = pd.json_normalize(data['data'])\n",
    "df['timestamp'] = pd.to_datetime('now')\n",
    "df\n",
    "\n"
   ]
  },
  {
   "cell_type": "code",
   "execution_count": null,
   "id": "7b35dc69-386f-4151-941c-9c49a7f9148e",
   "metadata": {},
   "outputs": [],
   "source": [
    "def api_runner():\n",
    "    global df\n",
    "    url = 'https://pro-api.coinmarketcap.com/v1/cryptocurrency/listings/latest' \n",
    "    #Original Sandbox Environment: 'https://sandbox-api.coinmarketcap.com/v1/cryptocurrency/listings/latest'\n",
    "    parameters = {\n",
    "      'start':'1',\n",
    "      'limit':'15',\n",
    "      'convert':'USD'\n",
    "    }\n",
    "    headers = {\n",
    "      'Accepts': 'application/json',\n",
    "      'X-CMC_PRO_API_KEY': '0ad53085-1cb2-4eb8-ad9e-3ffbd7e56509',\n",
    "    }\n",
    "\n",
    "    session = Session()\n",
    "    session.headers.update(headers)\n",
    "\n",
    "    try:\n",
    "      response = session.get(url, params=parameters)\n",
    "      data = json.loads(response.text)\n",
    "      #print(data)\n",
    "    except (ConnectionError, Timeout, TooManyRedirects) as e:\n",
    "      print(e)\n",
    "\n",
    "#NOTE:\n",
    "# I had to go in and put \"jupyter notebook --NotebookApp.iopub_data_rate_limit=1e10\"\n",
    "# Into the Anaconda Prompt to change this to allow to pull data\n",
    "    \n",
    "    # Use this if you just want to keep it in a dataframe\n",
    "    df2 = pd.json_normalize(data['data'])\n",
    "    df2['Timestamp'] = pd.to_datetime('now')\n",
    "    df = df.append(df2)\n",
    "\n",
    "\n",
    "    # Use this if you want to create a csv and append data to it\n",
    "    #df = pd.json_normalize(data['data'])\n",
    "    #df['timestamp'] = pd.to_datetime('now')\n",
    "    #df\n",
    "\n",
    "    #if not os.path.isfile(r'C:\\Users\\alexf\\OneDrive\\Documents\\Python Scripts\\API.csv'):\n",
    "        #df.to_csv(r'C:\\Users\\alexf\\OneDrive\\Documents\\Python Scripts\\API.csv', header='column_names')\n",
    "    #else:\n",
    "        #df.to_csv(r'C:\\Users\\alexf\\OneDrive\\Documents\\Python Scripts\\API.csv', mode='a', header=False)\n",
    "        \n",
    "    #Then to read in the file: df = pd.read_csv(r'C:\\Users\\alexf\\OneDrive\\Documents\\Python Scripts\\API.csv')\n",
    "\n",
    "# If that didn't work try using the local host URL as shown in the video"
   ]
  },
  {
   "cell_type": "code",
   "execution_count": null,
   "id": "c81423eb-fa5e-4851-b53b-13a0bd5c4154",
   "metadata": {},
   "outputs": [],
   "source": [
    "import os \n",
    "from time import time\n",
    "from time import sleep\n",
    "\n",
    "for i in range(333):\n",
    "    api_runner()\n",
    "    print('API Runner completed')\n",
    "    sleep(60) #sleep for 1 minute\n",
    "exit()"
   ]
  },
  {
   "cell_type": "code",
   "execution_count": null,
   "id": "4e2e4476-6dbb-47f4-89a3-c0d371fc0d61",
   "metadata": {},
   "outputs": [],
   "source": [
    "df72 = pd.read_csv(r'C:\\Users\\alexf\\OneDrive\\Documents\\Python Scripts\\API.csv')\n",
    "df72"
   ]
  },
  {
   "cell_type": "code",
   "execution_count": null,
   "id": "bca878e9-61d2-48cd-8a65-ea95f579faf6",
   "metadata": {},
   "outputs": [],
   "source": [
    "df"
   ]
  },
  {
   "cell_type": "code",
   "execution_count": null,
   "id": "8a794d44-01d1-4f6f-b0ca-bbb44b97cc5f",
   "metadata": {},
   "outputs": [],
   "source": [
    "\n",
    "\n",
    "# One thing I noticed was the scientific notation. I like it, but I want to be able to see the numbers in this case\n",
    "\n",
    "pd.set_option('display.float_format', lambda x: '%.5f' % x)\n",
    "\n",
    "df"
   ]
  },
  {
   "cell_type": "code",
   "execution_count": null,
   "id": "ab232ad4-da9d-4796-8337-8707c3af6e13",
   "metadata": {},
   "outputs": [],
   "source": [
    "# Now let's look at the coin trends over time\n",
    "\n",
    "df3 = df.groupby('name', sort=False)[['quote.USD.percent_change_1h','quote.USD.percent_change_24h','quote.USD.percent_change_7d','quote.USD.percent_change_30d','quote.USD.percent_change_60d','quote.USD.percent_change_90d']].mean()\n",
    "df3"
   ]
  },
  {
   "cell_type": "code",
   "execution_count": null,
   "id": "9ebf0c62-0d3f-43fa-94e0-9f5e73bc70a9",
   "metadata": {},
   "outputs": [],
   "source": [
    "df4 = df3.stack()\n",
    "df4"
   ]
  },
  {
   "cell_type": "code",
   "execution_count": null,
   "id": "b1dd3754-fd11-43bf-adb1-3ba0afcc82a9",
   "metadata": {},
   "outputs": [],
   "source": [
    "type(df4)"
   ]
  },
  {
   "cell_type": "code",
   "execution_count": null,
   "id": "f6e00531-aaa9-4d87-bc1c-dce6efd8e5b3",
   "metadata": {},
   "outputs": [],
   "source": [
    "df5 = df4.to_frame(name='values')\n",
    "df5"
   ]
  },
  {
   "cell_type": "code",
   "execution_count": null,
   "id": "6f2020bb-b54f-49a9-ae20-95d20d4750b7",
   "metadata": {},
   "outputs": [],
   "source": [
    "df5.count()"
   ]
  },
  {
   "cell_type": "code",
   "execution_count": null,
   "id": "f53d79f1-0641-488f-9f15-7391ef03b951",
   "metadata": {},
   "outputs": [],
   "source": [
    "#Because of how it's structured above we need to set an index. I don't want to pass a column as an index for this dataframe\n",
    "#So I'm going to create a range and pass that as the dataframe. You can make this more dynamic, but I'm just going to hard code it\n",
    "\n",
    "\n",
    "index = pd.Index(range(90))\n",
    "\n",
    "# Set the above DataFrame index object as the index\n",
    "# using set_index() function\n",
    "df6 = df5.set_index(index)\n",
    "df6\n",
    "\n",
    "# If it only has the index and values try doing reset_index like \"df5.reset_index()\""
   ]
  },
  {
   "cell_type": "code",
   "execution_count": null,
   "id": "7eb0b38a-dac2-441b-a8ce-239f8db47944",
   "metadata": {},
   "outputs": [],
   "source": [
    "# Change the column name\n",
    "\n",
    "df7 = df6.rename(columns={'level_1': 'percent_change'})\n",
    "df7"
   ]
  },
  {
   "cell_type": "code",
   "execution_count": null,
   "id": "ca5beb64-37ee-4189-82ac-7d30c3f06594",
   "metadata": {},
   "outputs": [],
   "source": [
    "df7['percent_change'] = df7['percent_change'].replace(['quote.USD.percent_change_24h','quote.USD.percent_change_7d','quote.USD.percent_change_30d','quote.USD.percent_change_60d','quote.USD.percent_change_90d'],['24h','7d','30d','60d','90d'])\n",
    "df7"
   ]
  },
  {
   "cell_type": "code",
   "execution_count": null,
   "id": "353cd87e-b898-4f65-a9e9-fc8388c7bebe",
   "metadata": {},
   "outputs": [],
   "source": [
    "import seaborn as sns\n",
    "import matplotlib.pyplot as plt"
   ]
  },
  {
   "cell_type": "code",
   "execution_count": null,
   "id": "610149ef-c2c2-47ea-be63-e85a49cd3dab",
   "metadata": {},
   "outputs": [],
   "source": [
    "sns.catplot(x='percent_change', y='values', hue='name', data=df7, kind='point')"
   ]
  },
  {
   "cell_type": "code",
   "execution_count": null,
   "id": "06fa24a3-7b7e-4e77-a065-497f9ec2432a",
   "metadata": {},
   "outputs": [],
   "source": [
    "# Now to do something much simpler\n",
    "# we are going to create a dataframe with the columns we want\n",
    "\n",
    "df10 = df[['name','quote.USD.price','timestamp']]\n",
    "df10 = df10.query(\"name == 'Bitcoin'\")\n",
    "df10\n",
    "\n"
   ]
  },
  {
   "cell_type": "code",
   "execution_count": null,
   "id": "d846d6c8-db80-4748-b620-7005e675c948",
   "metadata": {},
   "outputs": [],
   "source": [
    "sns.set_theme(style=\"darkgrid\")\n",
    "\n",
    "sns.lineplot(x='timestamp', y='quote.USD.price', data = df10)"
   ]
  }
 ],
 "metadata": {
  "kernelspec": {
   "display_name": "Python 3 (ipykernel)",
   "language": "python",
   "name": "python3"
  },
  "language_info": {
   "codemirror_mode": {
    "name": "ipython",
    "version": 3
   },
   "file_extension": ".py",
   "mimetype": "text/x-python",
   "name": "python",
   "nbconvert_exporter": "python",
   "pygments_lexer": "ipython3",
   "version": "3.10.4"
  }
 },
 "nbformat": 4,
 "nbformat_minor": 5
}
