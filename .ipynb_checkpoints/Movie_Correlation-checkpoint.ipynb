{
 "cells": [
  {
   "cell_type": "markdown",
   "id": "e6879314-1719-47d1-adbd-fa0b81522c44",
   "metadata": {},
   "source": [
    "### Movie Correlation Project"
   ]
  },
  {
   "cell_type": "code",
   "execution_count": null,
   "id": "da548dfe-c654-4439-a7c5-a98680985b83",
   "metadata": {},
   "outputs": [],
   "source": [
    "# If uou want to try sending yourself an email (just for fun) when a price hits below a certain level you can try it\n",
    "# out with this script\n",
    "\n",
    "def send_mail():\n",
    "    server = smtplib.SMTP_SSL('smtp.gmail.com',465)\n",
    "    server.ehlo()\n",
    "    #server.starttls()\n",
    "    server.ehlo()\n",
    "    server.login('john800j@gmail.com','xxxxxxxxxxxxxx')\n",
    "    \n",
    "    subject = \"The Shirt you want is below $15! Now is your chance to buy!\"\n",
    "    body = \"John, This is the moment we have been waiting for. Now is your chance to pick up the shirt of your dreams. Don't mess it up! Link here: https://www.amazon.com/Funny-Data-Systems-Business-Analyst/dp/B07FNW9FGJ/ref=sr_1_3?dchild=1&keywords=data+analyst+tshirt&qid=1626655184&sr=8-3\"\n",
    "   \n",
    "    msg = f\"Subject: {subject}\\n\\n{body}\"\n",
    "    \n",
    "    server.sendmail(\n",
    "        'john800j@gmail.com',\n",
    "        msg\n",
    "     \n",
    "    )"
   ]
  },
  {
   "cell_type": "code",
   "execution_count": null,
   "id": "aebac451-d531-4b8c-8943-338d94cb7ba4",
   "metadata": {},
   "outputs": [],
   "source": [
    "# Now let's take a look at the data\n",
    "\n",
    "df\n"
   ]
  },
  {
   "cell_type": "code",
   "execution_count": null,
   "id": "b45aecd6-74bc-43da-9691-1014b835e33d",
   "metadata": {},
   "outputs": [],
   "source": [
    "# We need to see if we have any missing data\n",
    "# Let's loop through the data and see if there is anything missing\n",
    "\n",
    "for col in df.columns:\n",
    "    pct_missing = np.mean(df[col].isnull())\n",
    "    print('{} - {}%'.format(col, round(pct_missing*100)))"
   ]
  },
  {
   "cell_type": "code",
   "execution_count": null,
   "id": "29b61e45-5ebf-484c-af5b-ecd900e9c4a9",
   "metadata": {},
   "outputs": [],
   "source": [
    "# Data Types for our columns\n",
    "\n",
    "print(df.dtypes)"
   ]
  },
  {
   "cell_type": "code",
   "execution_count": null,
   "id": "b486d4c7-2c60-4230-84f0-29bcdf1c4aa1",
   "metadata": {},
   "outputs": [],
   "source": [
    "# Are there any Outliers?\n",
    "\n",
    "df.boxplot(column=['gross'])"
   ]
  },
  {
   "cell_type": "code",
   "execution_count": null,
   "id": "46d17cb3-404f-4a45-86a6-2630ef306bc4",
   "metadata": {},
   "outputs": [],
   "source": [
    "df.drop_duplicates()"
   ]
  },
  {
   "cell_type": "code",
   "execution_count": null,
   "id": "233b0a94-b9d9-49fa-87cb-2ca9e1a975c8",
   "metadata": {},
   "outputs": [],
   "source": [
    "# Order our Data a little bit to see\n",
    "\n",
    "df.sort_values(by=['gross'], inplace=False, ascending=False)"
   ]
  },
  {
   "cell_type": "code",
   "execution_count": null,
   "id": "2d9fdcc5-56f8-4c77-a163-91148cf43e00",
   "metadata": {},
   "outputs": [],
   "source": [
    "sns.regplot(x=\"gross\", y=\"budget\", data=df)"
   ]
  },
  {
   "cell_type": "code",
   "execution_count": null,
   "id": "c404546f-0aa8-49c4-b3dc-ac32ab882e3c",
   "metadata": {},
   "outputs": [],
   "source": [
    "sns.regplot(x=\"score\", y=\"gross\", data=df)"
   ]
  },
  {
   "cell_type": "code",
   "execution_count": null,
   "id": "55148ef6-721a-4dfe-ad08-6cf7633609b0",
   "metadata": {},
   "outputs": [],
   "source": [
    "# Correlation Matrix between all numeric columns\n",
    "\n",
    "df.corr(method ='pearson')\n",
    "\n"
   ]
  },
  {
   "cell_type": "code",
   "execution_count": null,
   "id": "b1b7b450-73e6-45e1-ae75-e1aa8ae46ddb",
   "metadata": {},
   "outputs": [],
   "source": [
    "\n",
    "\n",
    "df.corr(method ='kendall')\n",
    "\n"
   ]
  },
  {
   "cell_type": "code",
   "execution_count": null,
   "id": "3099064f-df78-4584-bc1f-c749cc3fc8c9",
   "metadata": {},
   "outputs": [],
   "source": [
    "df.corr(method ='spearman')"
   ]
  },
  {
   "cell_type": "code",
   "execution_count": null,
   "id": "f707b872-2c34-486d-aea9-4e646807c9fc",
   "metadata": {},
   "outputs": [],
   "source": [
    "correlation_matrix = df.corr()\n",
    "\n",
    "sns.heatmap(correlation_matrix, annot = True)\n",
    "\n",
    "plt.title(\"Correlation matrix for Numeric Features\")\n",
    "\n",
    "plt.xlabel(\"Movie features\")\n",
    "\n",
    "plt.ylabel(\"Movie features\")\n",
    "\n",
    "plt.show()"
   ]
  },
  {
   "cell_type": "code",
   "execution_count": null,
   "id": "313ecdd6-cc87-4489-943f-cdcbc2f266e1",
   "metadata": {},
   "outputs": [],
   "source": [
    "# Using factorize - this assigns a random numeric value for each unique categorical value\n",
    "\n",
    "df.apply(lambda x: x.factorize()[0]).corr(method='pearson')"
   ]
  },
  {
   "cell_type": "code",
   "execution_count": null,
   "id": "3b97b450-e086-480e-812d-c3cbc1da323f",
   "metadata": {},
   "outputs": [],
   "source": [
    "correlation_matrix = df.apply(lambda x: x.factorize()[0]).corr(method='pearson')\n",
    "\n",
    "sns.heatmap(correlation_matrix, annot = True)\n",
    "\n",
    "plt.title(\"Correlation matrix for Movies\")\n",
    "\n",
    "plt.xlabel(\"Movie features\")\n",
    "\n",
    "plt.ylabel(\"Movie features\")\n",
    "\n",
    "plt.show()\n",
    "\n"
   ]
  },
  {
   "cell_type": "code",
   "execution_count": null,
   "id": "01498c27-63f7-4075-a2bc-45ee879fe448",
   "metadata": {},
   "outputs": [],
   "source": [
    "correlation_mat = df.apply(lambda x: x.factorize()[0]).corr()\n",
    "\n",
    "corr_pairs = correlation_mat.unstack()\n",
    "\n",
    "print(corr_pairs)"
   ]
  },
  {
   "cell_type": "code",
   "execution_count": null,
   "id": "7712e447-57ce-404e-829e-d5ae80fda23d",
   "metadata": {},
   "outputs": [],
   "source": [
    "sorted_pairs = corr_pairs.sort_values(kind=\"quicksort\")\n",
    "\n",
    "print(sorted_pairs)\n",
    "\n"
   ]
  },
  {
   "cell_type": "code",
   "execution_count": null,
   "id": "50654a8b-c867-4a9c-832d-bb46d8c15462",
   "metadata": {},
   "outputs": [],
   "source": [
    "# We can now take a look at the ones that have a high correlation (> 0.5)\n",
    "\n",
    "strong_pairs = sorted_pairs[abs(sorted_pairs) > 0.5]\n",
    "\n",
    "print(strong_pairs)"
   ]
  },
  {
   "cell_type": "code",
   "execution_count": null,
   "id": "6299d3d2-ec77-4367-be5e-2fed1dae67ea",
   "metadata": {},
   "outputs": [],
   "source": [
    "# Looking at the top 15 compaies by gross revenue\n",
    "\n",
    "CompanyGrossSum = df.groupby('company')[[\"gross\"]].sum()\n",
    "\n",
    "CompanyGrossSumSorted = CompanyGrossSum.sort_values('gross', ascending = False)[:15]\n",
    "\n",
    "CompanyGrossSumSorted = CompanyGrossSumSorted['gross'].astype('int64') \n",
    "\n",
    "CompanyGrossSumSorted"
   ]
  },
  {
   "cell_type": "code",
   "execution_count": null,
   "id": "8ee014e0-48a0-4787-bd5c-ed22a6d65ecb",
   "metadata": {},
   "outputs": [],
   "source": [
    "df['Year'] = df['released'].astype(str).str[:4]\n",
    "df"
   ]
  },
  {
   "cell_type": "code",
   "execution_count": null,
   "id": "0d5c97b6-c582-4eda-9b08-f3fbe708a7ff",
   "metadata": {},
   "outputs": [],
   "source": [
    "df.groupby(['company', 'year'])[[\"gross\"]].sum()"
   ]
  },
  {
   "cell_type": "code",
   "execution_count": null,
   "id": "991b6a35-2bfc-42f5-bf12-073001cc1bca",
   "metadata": {},
   "outputs": [],
   "source": [
    "CompanyGrossSum = df.groupby(['company', 'year'])[[\"gross\"]].sum()\n",
    "\n",
    "CompanyGrossSumSorted = CompanyGrossSum.sort_values(['gross','company','year'], ascending = False)[:15]\n",
    "\n",
    "CompanyGrossSumSorted = CompanyGrossSumSorted['gross'].astype('int64') \n",
    "\n",
    "CompanyGrossSumSorted\n",
    "\n"
   ]
  },
  {
   "cell_type": "code",
   "execution_count": null,
   "id": "f022df90-17e9-47cc-ad06-e59b0a0d217e",
   "metadata": {},
   "outputs": [],
   "source": [
    "CompanyGrossSum = df.groupby(['company'])[[\"gross\"]].sum()\n",
    "\n",
    "CompanyGrossSumSorted = CompanyGrossSum.sort_values(['gross','company'], ascending = False)[:15]\n",
    "\n",
    "CompanyGrossSumSorted = CompanyGrossSumSorted['gross'].astype('int64') \n",
    "\n",
    "CompanyGrossSumSorted"
   ]
  },
  {
   "cell_type": "code",
   "execution_count": null,
   "id": "970d30df-7c2f-4b5c-9d15-3cb5f5c4bb17",
   "metadata": {},
   "outputs": [],
   "source": [
    "plt.scatter(x=df['budget'], y=df['gross'], alpha=0.5)\n",
    "plt.title('Budget vs Gross Earnings')\n",
    "plt.xlabel('Gross Earnings')\n",
    "plt.ylabel('Budget for Film')\n",
    "plt.show()\n",
    "\n"
   ]
  },
  {
   "cell_type": "code",
   "execution_count": null,
   "id": "d29ccb0e-24e4-49ff-a43c-201a4690295d",
   "metadata": {},
   "outputs": [],
   "source": [
    "df"
   ]
  },
  {
   "cell_type": "code",
   "execution_count": null,
   "id": "f409db66-1f28-4755-ada5-f0979a46780b",
   "metadata": {},
   "outputs": [],
   "source": [
    "df_numerized = df\n",
    "\n",
    "\n",
    "for col_name in df_numerized.columns:\n",
    "    if(df_numerized[col_name].dtype == 'object'):\n",
    "        df_numerized[col_name]= df_numerized[col_name].astype('category')\n",
    "        df_numerized[col_name] = df_numerized[col_name].cat.codes\n",
    "        \n",
    "df_numerized\n",
    "\n"
   ]
  },
  {
   "cell_type": "code",
   "execution_count": null,
   "id": "aa32f4a8-f26a-43fc-8882-36317c87e167",
   "metadata": {},
   "outputs": [],
   "source": [
    "df_numerized.corr(method='pearson')"
   ]
  },
  {
   "cell_type": "code",
   "execution_count": null,
   "id": "0b003df3-a4dc-49d1-a9a3-75252e2b0b04",
   "metadata": {},
   "outputs": [],
   "source": [
    "correlation_matrix = df_numerized.corr(method='pearson')\n",
    "\n",
    "sns.heatmap(correlation_matrix, annot = True)\n",
    "\n",
    "plt.title(\"Correlation matrix for Movies\")\n",
    "\n",
    "plt.xlabel(\"Movie features\")\n",
    "\n",
    "plt.ylabel(\"Movie features\")\n",
    "\n",
    "plt.show()\n",
    "\n"
   ]
  },
  {
   "cell_type": "code",
   "execution_count": null,
   "id": "cf479099-8c6e-4184-a579-dabd376f242d",
   "metadata": {},
   "outputs": [],
   "source": [
    "for col_name in df.columns:\n",
    "    if(df[col_name].dtype == 'object'):\n",
    "        df[col_name]= df[col_name].astype('category')\n",
    "        df[col_name] = df[col_name].cat.codes"
   ]
  },
  {
   "cell_type": "code",
   "execution_count": null,
   "id": "a678afbc-9580-4e1b-9e16-99d996b1afc1",
   "metadata": {},
   "outputs": [],
   "source": [
    "df[cat_columns] = df[cat_columns].apply(lambda x: x.cat.codes)\n",
    "\n",
    "df"
   ]
  },
  {
   "cell_type": "code",
   "execution_count": null,
   "id": "587f1f4c-d20a-41a0-aac1-d2fdd8980147",
   "metadata": {},
   "outputs": [],
   "source": [
    "sns.swarmplot(x=\"rating\", y=\"gross\", data=df)\n",
    "\n"
   ]
  },
  {
   "cell_type": "code",
   "execution_count": null,
   "id": "cb885799-c73f-4780-a1e1-28b28678cf44",
   "metadata": {},
   "outputs": [],
   "source": [
    "sns.stripplot(x=\"rating\", y=\"gross\", data=df)\n"
   ]
  }
 ],
 "metadata": {
  "kernelspec": {
   "display_name": "Python 3 (ipykernel)",
   "language": "python",
   "name": "python3"
  },
  "language_info": {
   "codemirror_mode": {
    "name": "ipython",
    "version": 3
   },
   "file_extension": ".py",
   "mimetype": "text/x-python",
   "name": "python",
   "nbconvert_exporter": "python",
   "pygments_lexer": "ipython3",
   "version": "3.10.4"
  }
 },
 "nbformat": 4,
 "nbformat_minor": 5
}
